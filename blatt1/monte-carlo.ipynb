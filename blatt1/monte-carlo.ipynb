{
 "cells": [
  {
   "cell_type": "markdown",
   "metadata": {},
   "source": [
    "<div align=\"right\">\n",
    "  Christopher Lüken-Winkels, Lukas Blecher\n",
    "</div>\n",
    "# Exercise 1\n",
    "\n",
    "## 1 Monte-Carlo Simulation\n",
    "$X \\in \\left[ 0,1\\right], Y \\in \\{0,1\\}$\n",
    "$$p(Y = 0) = p(Y = 1) = \\frac12$$with the density functions$$ f(X = x|Y = 0) = 2 − 2x\\\\ f(X = x|Y = 1) = 2x$$\n",
    "Now we derive the CDF for both cases. In general the definition is $$F_X(x)=\\int^x_{-\\infty} f_X(t)dt$$\n",
    "Since $X\\in \\left[0,1\\right]$ we integrate form $0$. The results are:\n",
    "$$F_0=\\int_0^x (2y-y^2) dy =2x-x^2 \\\\ F_1(x)=\\int_0^x 2y dy=x^2$$\n",
    "\n",
    "Now we inverted the CDF:\n",
    "$$F_0^{-1}(y)=1-\\sqrt{1-y}\\\\ F_1^{-1}(y)=\\sqrt y$$\n",
    "In the first case we got two different solutions but the $+$-solution is greater than $1$ for almost all x."
   ]
  },
  {
   "cell_type": "code",
<<<<<<< HEAD
   "execution_count": 19,
=======
   "execution_count": 12,
>>>>>>> origin/master
   "metadata": {
    "collapsed": true
   },
   "outputs": [],
   "source": [
    "import numpy as np\n",
    "import matplotlib.pyplot as plt\n",
<<<<<<< HEAD
    "import scipy\n",
    "from numpy import random as rd"
=======
    "from numpy import random as rd\n",
    "%matplotlib inline"
>>>>>>> origin/master
   ]
  },
  {
   "cell_type": "code",
<<<<<<< HEAD
   "execution_count": 60,
   "metadata": {},
   "outputs": [],
   "source": [
    "#define cumulative distribution function for f(X=x|Y=0)=2−2x (F0) and f(X=x|Y=1)=2x (F1)\n",
    "def F0(x):\n",
    "    return 2*x - x**2\n",
    "def F1(x):\n",
    "    return x**2\n",
    "\n",
    "#define inverse functions of F0 (invF0) and F1 (invF1)\n",
    "def invF0(y):\n",
    "    return 1 - np.sqrt(1 - y)\n",
    "def invF1(y):\n",
    "    return np.sqrt(y)\n",
    "\n",
    "#define function that returns vectors containing the X-values and corresponding Y-labels for N data instances\n",
    "def create_data(N):\n",
    "    Z = rd.random(N)\n",
    "    X0 = invF0(Z[:int(N/2)])\n",
    "    X1 = invF1(Z[int(N/2):])\n",
    "    Y0 = np.zeros(len(X0))\n",
    "    Y1 = np.ones(len(X1))\n",
    "    return np.concatenate((X0,X1),axis=None),np.concatenate((Y0,Y1),axis=None)"
   ]
  },
  {
   "cell_type": "code",
   "execution_count": 63,
   "metadata": {},
   "outputs": [],
   "source": [
    "#define function to show histogramm of X with Y=0 (second arg = 0) or Y=1 (second arg = 1)\n",
    "def test(N,k):    \n",
    "    X,Y = create_data(N)\n",
    "    if k == 0:\n",
    "        plt.hist(X[:int(len(X)/2)],bins = 100)\n",
    "    if k == 1:\n",
    "        plt.hist(X[int(len(X)/2):],bins = 100)\n",
    "    plt.show()\n",
    "    return"
   ]
  },
  {
   "cell_type": "code",
   "execution_count": 68,
   "metadata": {},
   "outputs": [
    {
     "data": {
      "image/png": "iVBORw0KGgoAAAANSUhEUgAAAYAAAAD8CAYAAAB+UHOxAAAABHNCSVQICAgIfAhkiAAAAAlwSFlz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\n",
      "text/plain": [
       "<matplotlib.figure.Figure at 0xaa84550>"
      ]
     },
     "metadata": {},
     "output_type": "display_data"
    }
   ],
   "source": []
  },
  {
   "cell_type": "code",
=======
>>>>>>> origin/master
   "execution_count": null,
   "metadata": {
    "collapsed": true
   },
   "outputs": [],
   "source": []
  }
 ],
 "metadata": {
  "kernelspec": {
   "display_name": "Python 3",
   "language": "python",
   "name": "python3"
  },
  "language_info": {
   "codemirror_mode": {
    "name": "ipython",
    "version": 3
   },
   "file_extension": ".py",
   "mimetype": "text/x-python",
   "name": "python",
   "nbconvert_exporter": "python",
   "pygments_lexer": "ipython3",
   "version": "3.6.3"
  }
 },
 "nbformat": 4,
 "nbformat_minor": 2
}
